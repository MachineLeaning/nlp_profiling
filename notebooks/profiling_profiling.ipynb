{
 "nbformat": 4,
 "nbformat_minor": 2,
 "metadata": {
  "language_info": {
   "name": "python",
   "codemirror_mode": {
    "name": "ipython",
    "version": 3
   },
   "version": "3.7.4-final"
  },
  "orig_nbformat": 2,
  "file_extension": ".py",
  "mimetype": "text/x-python",
  "name": "python",
  "npconvert_exporter": "python",
  "pygments_lexer": "ipython3",
  "version": 3,
  "kernelspec": {
   "name": "python37464bitvenvawesomenlppyenv2e5736c03fa34e80a40180789394a341",
   "display_name": "Python 3.7.4 64-bit ('venv-awesomenlp': pyenv)"
  }
 },
 "cells": [
  {
   "cell_type": "code",
   "execution_count": 1,
   "metadata": {},
   "outputs": [],
   "source": [
    "%load_ext line_profiler"
   ]
  },
  {
   "source": [
    "# lib imports\n",
    "\n",
    "import csv\n",
    "import nltk\n",
    "import itertools\n",
    "import datetime\n",
    " \n",
    "# spacy import and text tokenization function \n",
    "import spacy\n",
    "nlp = spacy.load('en')\n",
    "def sentence_tokenize(text):\n",
    " doc = nlp(text)\n",
    " return [sent.string.strip() for sent in doc.sents]\n",
    " \n",
    " \n",
    "# NLTK text tokenization and calculation of computation time:&lt;/pre&gt;\n",
    "def run_nltk():\n",
    "    print (\"Reading CSV file...\")\n",
    "     \n",
    "    sample_str =[]\n",
    "     \n",
    "    #record time stamp before \n",
    "    #tstart = datetime.now()\n",
    "    with open('reddit-comments-2015-08.csv', 'r') as f:\n",
    "        reader = csv.reader(f, skipinitialspace=True)\n",
    "        # read is an iterator which contains lines which can be itered through an iterator.\n",
    "        next(reader)\n",
    "     \n",
    "    # iterate through all the lines and tokenize the text.\n",
    "     \n",
    "        for row in reader:\n",
    "            sample_str=row[0]\n",
    "            tokzd= nltk.sent_tokenize(sample_str.lower()) # text tokenization through NLTK's function\n",
    "            sentences = itertools.chain(tokzd)\n",
    "     \n",
    "    # record time stamp afterwards\n",
    "    #tend = datetime.now()\n",
    " \n",
    "# print time took to tokenize the text\n",
    "#print ( tend - tstart )\n",
    " \n",
    "# Output : 0:00:01.961066\n",
    " \n",
    "# Spacy text tokenization and calculation of computation time: \n",
    " \n",
    "#record time stamp before \n",
    "#tstart = datetime.now()\n",
    "def run_spacy(): \n",
    "    with open('reddit-comments-2015-08.csv', 'r') as f:\n",
    "        reader = csv.reader(f, skipinitialspace=True)\n",
    "        # read is an iterator which contains lines which can be itered through an iterator.\n",
    "        next(reader)   \n",
    "    # iterate through all the lines and tokenize the text.\n",
    "        for row in reader:\n",
    "            sample_str=row[0]\n",
    "            tokzd = sentence_tokenize(sample_str.lower())\n",
    "            sentences = itertools.chain(tokzd)\n",
    "    # record time stamp afterwards\n",
    "    #tend = datetime.now()\n",
    "    # print time took to tokenize the text\n",
    "    #print ( tend - tstart )\n",
    " \n",
    "# Output : 0:02:58.788951"
   ],
   "cell_type": "code",
   "outputs": [],
   "metadata": {},
   "execution_count": 15
  },
  {
   "source": [
    "%lprun -f run_spacy -f sentence_tokenize -f csv.reader -T spacy_tokenize.txt run_spacy()\n",
    "\n",
    "#run_spacy()"
   ],
   "cell_type": "code",
   "outputs": [
    {
     "output_type": "stream",
     "name": "stderr",
     "text": "/Users/lorajohns/.pyenv/versions/venv-awesomenlp/lib/python3.7/site-packages/line_profiler/line_profiler.py:328: UserWarning: Could not extract a code object for the object <built-in function reader>\n  profile = LineProfiler(*funcs)\n\n*** Profile printout saved to text file 'spacy_tokenize.txt'. \n"
    }
   ],
   "metadata": {},
   "execution_count": 24
  },
  {
   "source": [
    "%lprun -f run_nltk -f nltk.sent_tokenize -f itertools.chain -f csv.reader -T nltk_tokenize.txt run_nltk()\n",
    "\n",
    "# run_nltk()"
   ],
   "cell_type": "code",
   "outputs": [
    {
     "output_type": "stream",
     "name": "stdout",
     "text": "Reading CSV file...\n/Users/lorajohns/.pyenv/versions/venv-awesomenlp/lib/python3.7/site-packages/line_profiler/line_profiler.py:328: UserWarning: Could not extract a code object for the object <class 'itertools.chain'>\n  profile = LineProfiler(*funcs)\n\n*** Profile printout saved to text file 'nltk_tokenize.txt'. \n"
    }
   ],
   "metadata": {},
   "execution_count": 25
  },
  {
   "source": [
    "type(nlp('test'))"
   ],
   "cell_type": "code",
   "outputs": [
    {
     "output_type": "execute_result",
     "data": {
      "text/plain": "spacy.tokens.doc.Doc"
     },
     "metadata": {},
     "execution_count": 26
    }
   ],
   "metadata": {},
   "execution_count": 26
  },
  {
   "cell_type": "code",
   "execution_count": null,
   "metadata": {},
   "outputs": [],
   "source": []
  }
 ]
}